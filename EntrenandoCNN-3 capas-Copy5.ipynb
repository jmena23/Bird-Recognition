{
 "cells": [
  {
   "cell_type": "code",
   "execution_count": 1,
   "metadata": {},
   "outputs": [],
   "source": [
    "import sys\n",
    "import os\n",
    "import glob\n",
    "import matplotlib.pyplot as plt\n",
    "from keras.preprocessing.image import ImageDataGenerator\n",
    "from keras import optimizers\n",
    "from keras.models import Sequential\n",
    "from keras.layers import Dropout, Flatten, Dense, Activation\n",
    "from keras.layers import Conv2D, MaxPooling2D"
   ]
  },
  {
   "cell_type": "code",
   "execution_count": 2,
   "metadata": {},
   "outputs": [],
   "source": [
    "data_entrenamiento = \"./data/entrenamiento\"\n",
    "data_validacion = \"./data/validacion\""
   ]
  },
  {
   "cell_type": "markdown",
   "metadata": {},
   "source": [
    "# Parametros"
   ]
  },
  {
   "cell_type": "code",
   "execution_count": 3,
   "metadata": {},
   "outputs": [],
   "source": [
    "epocas = 100\n",
    "altura, longitud = 50, 50\n",
    "batch_size = 64\n",
    "filtrosConv1 = 32\n",
    "filtrosConv2 = 64\n",
    "tamano_filtro1 = (3, 3)\n",
    "tamano_filtro2 = (2, 2)\n",
    "tamano_pool = (2, 2)\n",
    "clases = 4\n",
    "lr = 0.001"
   ]
  },
  {
   "cell_type": "markdown",
   "metadata": {},
   "source": [
    "# Pre-procesamiento de imagenes"
   ]
  },
  {
   "cell_type": "code",
   "execution_count": 4,
   "metadata": {},
   "outputs": [],
   "source": [
    "datagen_entrenamiento = ImageDataGenerator(rescale = 1./255, \n",
    "                                           shear_range = 0.3, \n",
    "                                           zoom_range = 0.3, \n",
    "                                           horizontal_flip = True)\n",
    "\n",
    "datagen_validacion = ImageDataGenerator(rescale = 1./255)"
   ]
  },
  {
   "cell_type": "code",
   "execution_count": 5,
   "metadata": {},
   "outputs": [
    {
     "name": "stdout",
     "output_type": "stream",
     "text": [
      "Found 3217 images belonging to 4 classes.\n",
      "Found 765 images belonging to 4 classes.\n"
     ]
    }
   ],
   "source": [
    "imagen_entrenamiento = datagen_entrenamiento.flow_from_directory(data_entrenamiento, \n",
    "                                                                target_size = (altura, longitud), \n",
    "                                                                batch_size = batch_size, \n",
    "                                                                class_mode = \"categorical\")\n",
    "\n",
    "imagen_validacion = datagen_validacion.flow_from_directory(data_validacion, \n",
    "                                                                target_size = (altura, longitud), \n",
    "                                                                batch_size = batch_size, \n",
    "                                                                class_mode = \"categorical\")"
   ]
  },
  {
   "cell_type": "markdown",
   "metadata": {},
   "source": [
    "# Red neuronal CNN"
   ]
  },
  {
   "cell_type": "code",
   "execution_count": 6,
   "metadata": {},
   "outputs": [],
   "source": [
    "model = Sequential()\n",
    "model.add(Conv2D(32, (3, 3), activation='relu', kernel_initializer='he_uniform', padding='same', input_shape=(altura, longitud, 3)))\n",
    "model.add(Conv2D(32, (3, 3), activation='relu', kernel_initializer='he_uniform', padding='same'))\n",
    "model.add(MaxPooling2D((2, 2)))\n",
    "model.add(Dropout(0.2))\n",
    "model.add(Conv2D(64, (3, 3), activation='relu', kernel_initializer='he_uniform', padding='same'))\n",
    "model.add(Conv2D(64, (3, 3), activation='relu', kernel_initializer='he_uniform', padding='same'))\n",
    "model.add(MaxPooling2D((2, 2)))\n",
    "model.add(Dropout(0.3))\n",
    "model.add(Conv2D(128, (3, 3), activation='relu', kernel_initializer='he_uniform', padding='same'))\n",
    "model.add(Conv2D(128, (3, 3), activation='relu', kernel_initializer='he_uniform', padding='same'))\n",
    "model.add(MaxPooling2D((2, 2)))\n",
    "model.add(Dropout(0.4))\n",
    "model.add(Flatten())\n",
    "model.add(Dense(128, activation='relu', kernel_initializer='he_uniform'))\n",
    "model.add(Dropout(0.5))\n",
    "model.add(Dense(clases, activation='softmax'))"
   ]
  },
  {
   "cell_type": "code",
   "execution_count": 7,
   "metadata": {},
   "outputs": [
    {
     "name": "stdout",
     "output_type": "stream",
     "text": [
      "Model: \"sequential\"\n",
      "_________________________________________________________________\n",
      "Layer (type)                 Output Shape              Param #   \n",
      "=================================================================\n",
      "conv2d (Conv2D)              (None, 50, 50, 32)        896       \n",
      "_________________________________________________________________\n",
      "conv2d_1 (Conv2D)            (None, 50, 50, 32)        9248      \n",
      "_________________________________________________________________\n",
      "max_pooling2d (MaxPooling2D) (None, 25, 25, 32)        0         \n",
      "_________________________________________________________________\n",
      "dropout (Dropout)            (None, 25, 25, 32)        0         \n",
      "_________________________________________________________________\n",
      "conv2d_2 (Conv2D)            (None, 25, 25, 64)        18496     \n",
      "_________________________________________________________________\n",
      "conv2d_3 (Conv2D)            (None, 25, 25, 64)        36928     \n",
      "_________________________________________________________________\n",
      "max_pooling2d_1 (MaxPooling2 (None, 12, 12, 64)        0         \n",
      "_________________________________________________________________\n",
      "dropout_1 (Dropout)          (None, 12, 12, 64)        0         \n",
      "_________________________________________________________________\n",
      "conv2d_4 (Conv2D)            (None, 12, 12, 128)       73856     \n",
      "_________________________________________________________________\n",
      "conv2d_5 (Conv2D)            (None, 12, 12, 128)       147584    \n",
      "_________________________________________________________________\n",
      "max_pooling2d_2 (MaxPooling2 (None, 6, 6, 128)         0         \n",
      "_________________________________________________________________\n",
      "dropout_2 (Dropout)          (None, 6, 6, 128)         0         \n",
      "_________________________________________________________________\n",
      "flatten (Flatten)            (None, 4608)              0         \n",
      "_________________________________________________________________\n",
      "dense (Dense)                (None, 128)               589952    \n",
      "_________________________________________________________________\n",
      "dropout_3 (Dropout)          (None, 128)               0         \n",
      "_________________________________________________________________\n",
      "dense_1 (Dense)              (None, 4)                 516       \n",
      "=================================================================\n",
      "Total params: 877,476\n",
      "Trainable params: 877,476\n",
      "Non-trainable params: 0\n",
      "_________________________________________________________________\n"
     ]
    }
   ],
   "source": [
    "model.summary()"
   ]
  },
  {
   "cell_type": "code",
   "execution_count": 8,
   "metadata": {},
   "outputs": [],
   "source": [
    "opt = optimizers.Adam(lr=lr)\n",
    "model.compile(optimizer=opt, loss='categorical_crossentropy', metrics=['accuracy'])"
   ]
  },
  {
   "cell_type": "code",
   "execution_count": 9,
   "metadata": {},
   "outputs": [
    {
     "name": "stdout",
     "output_type": "stream",
     "text": [
      "Epoch 1/100\n",
      "51/51 [==============================] - 23s 445ms/step - loss: 1.4153 - accuracy: 0.3174 - val_loss: 1.3295 - val_accuracy: 0.3725\n",
      "Epoch 2/100\n",
      "51/51 [==============================] - 24s 464ms/step - loss: 1.2322 - accuracy: 0.4203 - val_loss: 1.2916 - val_accuracy: 0.3464\n",
      "Epoch 3/100\n",
      "51/51 [==============================] - 24s 468ms/step - loss: 1.1597 - accuracy: 0.4569 - val_loss: 1.2171 - val_accuracy: 0.4562\n",
      "Epoch 4/100\n",
      "51/51 [==============================] - 24s 464ms/step - loss: 1.1112 - accuracy: 0.4859 - val_loss: 1.1626 - val_accuracy: 0.4771\n",
      "Epoch 5/100\n",
      "51/51 [==============================] - 22s 441ms/step - loss: 1.0278 - accuracy: 0.5536 - val_loss: 1.3816 - val_accuracy: 0.4444\n",
      "Epoch 6/100\n",
      "51/51 [==============================] - 22s 431ms/step - loss: 1.0427 - accuracy: 0.5480 - val_loss: 1.2360 - val_accuracy: 0.4327\n",
      "Epoch 7/100\n",
      "51/51 [==============================] - 22s 430ms/step - loss: 0.9494 - accuracy: 0.5999 - val_loss: 1.2191 - val_accuracy: 0.5359\n",
      "Epoch 8/100\n",
      "51/51 [==============================] - 22s 429ms/step - loss: 0.8877 - accuracy: 0.6472 - val_loss: 1.1854 - val_accuracy: 0.5529\n",
      "Epoch 9/100\n",
      "51/51 [==============================] - 22s 427ms/step - loss: 0.8290 - accuracy: 0.6864 - val_loss: 1.2000 - val_accuracy: 0.5150\n",
      "Epoch 10/100\n",
      "51/51 [==============================] - 22s 429ms/step - loss: 0.7865 - accuracy: 0.6997 - val_loss: 1.1160 - val_accuracy: 0.5935\n",
      "Epoch 11/100\n",
      "51/51 [==============================] - 22s 429ms/step - loss: 0.7217 - accuracy: 0.7327 - val_loss: 0.9653 - val_accuracy: 0.6288\n",
      "Epoch 12/100\n",
      "51/51 [==============================] - 22s 428ms/step - loss: 0.6761 - accuracy: 0.7516 - val_loss: 0.9159 - val_accuracy: 0.6523\n",
      "Epoch 13/100\n",
      "51/51 [==============================] - 22s 433ms/step - loss: 0.6471 - accuracy: 0.7557 - val_loss: 0.7427 - val_accuracy: 0.7150\n",
      "Epoch 14/100\n",
      "51/51 [==============================] - 22s 440ms/step - loss: 0.6313 - accuracy: 0.7697 - val_loss: 0.9724 - val_accuracy: 0.5935\n",
      "Epoch 15/100\n",
      "51/51 [==============================] - 22s 430ms/step - loss: 0.6177 - accuracy: 0.7799 - val_loss: 0.9476 - val_accuracy: 0.6680\n",
      "Epoch 16/100\n",
      "51/51 [==============================] - 22s 426ms/step - loss: 0.5372 - accuracy: 0.8057 - val_loss: 1.0691 - val_accuracy: 0.6431\n",
      "Epoch 17/100\n",
      "51/51 [==============================] - 22s 434ms/step - loss: 0.5381 - accuracy: 0.8032 - val_loss: 0.6765 - val_accuracy: 0.7438\n",
      "Epoch 18/100\n",
      "51/51 [==============================] - 22s 428ms/step - loss: 0.5582 - accuracy: 0.7927 - val_loss: 0.8423 - val_accuracy: 0.6797\n",
      "Epoch 19/100\n",
      "51/51 [==============================] - 22s 427ms/step - loss: 0.5045 - accuracy: 0.8163 - val_loss: 0.9848 - val_accuracy: 0.6627\n",
      "Epoch 20/100\n",
      "51/51 [==============================] - 22s 430ms/step - loss: 0.5030 - accuracy: 0.8163 - val_loss: 0.6599 - val_accuracy: 0.7608\n",
      "Epoch 21/100\n",
      "51/51 [==============================] - 22s 428ms/step - loss: 0.4853 - accuracy: 0.8303 - val_loss: 0.7780 - val_accuracy: 0.6954\n",
      "Epoch 22/100\n",
      "51/51 [==============================] - 22s 424ms/step - loss: 0.4462 - accuracy: 0.8421 - val_loss: 0.7838 - val_accuracy: 0.7007\n",
      "Epoch 23/100\n",
      "51/51 [==============================] - 22s 432ms/step - loss: 0.4174 - accuracy: 0.8489 - val_loss: 0.6493 - val_accuracy: 0.7660\n",
      "Epoch 24/100\n",
      "51/51 [==============================] - 22s 435ms/step - loss: 0.4558 - accuracy: 0.8362 - val_loss: 0.5936 - val_accuracy: 0.7817\n",
      "Epoch 25/100\n",
      "51/51 [==============================] - 22s 428ms/step - loss: 0.4158 - accuracy: 0.8514 - val_loss: 0.9941 - val_accuracy: 0.6588\n",
      "Epoch 26/100\n",
      "51/51 [==============================] - 22s 431ms/step - loss: 0.4115 - accuracy: 0.8520 - val_loss: 0.6943 - val_accuracy: 0.7582\n",
      "Epoch 27/100\n",
      "51/51 [==============================] - 22s 431ms/step - loss: 0.3784 - accuracy: 0.8648 - val_loss: 0.6140 - val_accuracy: 0.7935\n",
      "Epoch 28/100\n",
      "51/51 [==============================] - 22s 427ms/step - loss: 0.3809 - accuracy: 0.8623 - val_loss: 0.6954 - val_accuracy: 0.7490\n",
      "Epoch 29/100\n",
      "51/51 [==============================] - 22s 427ms/step - loss: 0.3678 - accuracy: 0.8601 - val_loss: 0.6914 - val_accuracy: 0.7608\n",
      "Epoch 30/100\n",
      "51/51 [==============================] - 22s 426ms/step - loss: 0.3628 - accuracy: 0.8694 - val_loss: 0.6104 - val_accuracy: 0.7856\n",
      "Epoch 31/100\n",
      "51/51 [==============================] - 22s 429ms/step - loss: 0.3579 - accuracy: 0.8698 - val_loss: 0.6045 - val_accuracy: 0.7804\n",
      "Epoch 32/100\n",
      "51/51 [==============================] - 22s 424ms/step - loss: 0.3488 - accuracy: 0.8763 - val_loss: 0.6369 - val_accuracy: 0.7542\n",
      "Epoch 33/100\n",
      "51/51 [==============================] - 22s 429ms/step - loss: 0.3475 - accuracy: 0.8738 - val_loss: 0.7980 - val_accuracy: 0.7268\n",
      "Epoch 34/100\n",
      "51/51 [==============================] - 22s 427ms/step - loss: 0.3265 - accuracy: 0.8806 - val_loss: 0.6311 - val_accuracy: 0.7908\n",
      "Epoch 35/100\n",
      "51/51 [==============================] - 22s 427ms/step - loss: 0.3519 - accuracy: 0.8719 - val_loss: 0.5230 - val_accuracy: 0.8105\n",
      "Epoch 36/100\n",
      "51/51 [==============================] - 24s 462ms/step - loss: 0.3055 - accuracy: 0.8890 - val_loss: 0.6793 - val_accuracy: 0.7464\n",
      "Epoch 37/100\n",
      "51/51 [==============================] - 22s 437ms/step - loss: 0.3030 - accuracy: 0.8946 - val_loss: 0.8494 - val_accuracy: 0.7190\n",
      "Epoch 38/100\n",
      "51/51 [==============================] - 22s 437ms/step - loss: 0.3140 - accuracy: 0.8856 - val_loss: 0.7183 - val_accuracy: 0.7634\n",
      "Epoch 39/100\n",
      "51/51 [==============================] - 22s 432ms/step - loss: 0.3177 - accuracy: 0.8850 - val_loss: 0.6121 - val_accuracy: 0.7987\n",
      "Epoch 40/100\n",
      "51/51 [==============================] - 22s 429ms/step - loss: 0.2849 - accuracy: 0.8931 - val_loss: 0.5614 - val_accuracy: 0.8013\n",
      "Epoch 41/100\n",
      "51/51 [==============================] - 22s 428ms/step - loss: 0.2997 - accuracy: 0.8900 - val_loss: 0.7327 - val_accuracy: 0.7490\n",
      "Epoch 42/100\n",
      "51/51 [==============================] - 22s 427ms/step - loss: 0.2649 - accuracy: 0.9021 - val_loss: 0.5968 - val_accuracy: 0.8000\n",
      "Epoch 43/100\n",
      "51/51 [==============================] - 22s 425ms/step - loss: 0.2482 - accuracy: 0.9061 - val_loss: 0.6753 - val_accuracy: 0.7830\n",
      "Epoch 44/100\n",
      "51/51 [==============================] - 22s 427ms/step - loss: 0.2751 - accuracy: 0.9033 - val_loss: 0.5577 - val_accuracy: 0.8078\n",
      "Epoch 45/100\n",
      "51/51 [==============================] - 22s 431ms/step - loss: 0.2742 - accuracy: 0.9024 - val_loss: 0.5635 - val_accuracy: 0.8078\n",
      "Epoch 46/100\n",
      "51/51 [==============================] - 22s 428ms/step - loss: 0.2504 - accuracy: 0.9142 - val_loss: 0.6552 - val_accuracy: 0.7856\n",
      "Epoch 47/100\n",
      "51/51 [==============================] - 22s 428ms/step - loss: 0.2363 - accuracy: 0.9189 - val_loss: 0.6860 - val_accuracy: 0.7739\n",
      "Epoch 48/100\n",
      "51/51 [==============================] - 22s 440ms/step - loss: 0.2413 - accuracy: 0.9114 - val_loss: 0.6736 - val_accuracy: 0.7922\n",
      "Epoch 49/100\n",
      "51/51 [==============================] - 22s 434ms/step - loss: 0.2452 - accuracy: 0.9123 - val_loss: 0.5626 - val_accuracy: 0.8301\n",
      "Epoch 50/100\n",
      "51/51 [==============================] - 22s 430ms/step - loss: 0.2385 - accuracy: 0.9170 - val_loss: 0.6868 - val_accuracy: 0.7778\n",
      "Epoch 51/100\n",
      "51/51 [==============================] - 22s 428ms/step - loss: 0.2343 - accuracy: 0.9142 - val_loss: 0.5909 - val_accuracy: 0.8170\n",
      "Epoch 52/100\n",
      "51/51 [==============================] - 22s 425ms/step - loss: 0.2213 - accuracy: 0.9238 - val_loss: 0.8281 - val_accuracy: 0.7765\n",
      "Epoch 53/100\n",
      "51/51 [==============================] - 22s 426ms/step - loss: 0.2270 - accuracy: 0.9154 - val_loss: 0.5888 - val_accuracy: 0.8261\n",
      "Epoch 54/100\n",
      "51/51 [==============================] - 22s 426ms/step - loss: 0.2112 - accuracy: 0.9207 - val_loss: 0.5755 - val_accuracy: 0.8261\n",
      "Epoch 55/100\n",
      "51/51 [==============================] - 22s 424ms/step - loss: 0.2554 - accuracy: 0.9055 - val_loss: 0.5230 - val_accuracy: 0.8431\n",
      "Epoch 56/100\n",
      "51/51 [==============================] - 22s 426ms/step - loss: 0.2201 - accuracy: 0.9217 - val_loss: 0.5702 - val_accuracy: 0.8301\n",
      "Epoch 57/100\n",
      "51/51 [==============================] - 22s 427ms/step - loss: 0.2074 - accuracy: 0.9245 - val_loss: 0.6169 - val_accuracy: 0.8327\n",
      "Epoch 58/100\n",
      "51/51 [==============================] - 22s 425ms/step - loss: 0.2148 - accuracy: 0.9182 - val_loss: 0.6521 - val_accuracy: 0.8026\n",
      "Epoch 59/100\n",
      "51/51 [==============================] - 22s 424ms/step - loss: 0.2077 - accuracy: 0.9263 - val_loss: 0.6720 - val_accuracy: 0.8118\n",
      "Epoch 60/100\n",
      "51/51 [==============================] - 22s 430ms/step - loss: 0.2009 - accuracy: 0.9254 - val_loss: 0.5607 - val_accuracy: 0.8392\n",
      "Epoch 61/100\n",
      "51/51 [==============================] - 22s 436ms/step - loss: 0.2123 - accuracy: 0.9229 - val_loss: 0.6692 - val_accuracy: 0.8118\n",
      "Epoch 62/100\n",
      "51/51 [==============================] - 22s 426ms/step - loss: 0.2158 - accuracy: 0.9217 - val_loss: 0.5792 - val_accuracy: 0.8549\n",
      "Epoch 63/100\n",
      "51/51 [==============================] - 22s 427ms/step - loss: 0.2052 - accuracy: 0.9285 - val_loss: 0.6869 - val_accuracy: 0.8092\n",
      "Epoch 64/100\n",
      "51/51 [==============================] - 22s 428ms/step - loss: 0.2150 - accuracy: 0.9223 - val_loss: 0.5569 - val_accuracy: 0.8209\n",
      "Epoch 65/100\n",
      "51/51 [==============================] - 22s 427ms/step - loss: 0.2010 - accuracy: 0.9288 - val_loss: 0.7268 - val_accuracy: 0.7660\n",
      "Epoch 66/100\n",
      "51/51 [==============================] - 22s 425ms/step - loss: 0.2050 - accuracy: 0.9260 - val_loss: 0.5755 - val_accuracy: 0.8366\n",
      "Epoch 67/100\n",
      "51/51 [==============================] - 22s 428ms/step - loss: 0.1790 - accuracy: 0.9357 - val_loss: 0.6413 - val_accuracy: 0.8327\n",
      "Epoch 68/100\n",
      "51/51 [==============================] - 22s 430ms/step - loss: 0.1720 - accuracy: 0.9391 - val_loss: 0.6735 - val_accuracy: 0.8222\n",
      "Epoch 69/100\n",
      "51/51 [==============================] - 22s 428ms/step - loss: 0.1948 - accuracy: 0.9301 - val_loss: 0.6035 - val_accuracy: 0.8222\n",
      "Epoch 70/100\n",
      "51/51 [==============================] - 22s 425ms/step - loss: 0.1847 - accuracy: 0.9366 - val_loss: 0.5361 - val_accuracy: 0.8431\n",
      "Epoch 71/100\n",
      "51/51 [==============================] - 22s 425ms/step - loss: 0.1606 - accuracy: 0.9478 - val_loss: 0.7133 - val_accuracy: 0.8222\n",
      "Epoch 72/100\n",
      "51/51 [==============================] - 22s 425ms/step - loss: 0.1780 - accuracy: 0.9360 - val_loss: 0.5706 - val_accuracy: 0.8288\n",
      "Epoch 73/100\n",
      "51/51 [==============================] - 22s 426ms/step - loss: 0.1746 - accuracy: 0.9344 - val_loss: 0.9034 - val_accuracy: 0.7660\n",
      "Epoch 74/100\n",
      "51/51 [==============================] - 22s 427ms/step - loss: 0.1950 - accuracy: 0.9260 - val_loss: 0.6234 - val_accuracy: 0.8000\n",
      "Epoch 75/100\n",
      "51/51 [==============================] - 22s 425ms/step - loss: 0.1733 - accuracy: 0.9391 - val_loss: 0.7186 - val_accuracy: 0.8157\n",
      "Epoch 76/100\n",
      "51/51 [==============================] - 22s 425ms/step - loss: 0.2277 - accuracy: 0.9235 - val_loss: 0.6567 - val_accuracy: 0.8092\n",
      "Epoch 77/100\n",
      "51/51 [==============================] - 22s 425ms/step - loss: 0.1844 - accuracy: 0.9391 - val_loss: 0.6134 - val_accuracy: 0.8379\n",
      "Epoch 78/100\n",
      "51/51 [==============================] - 22s 427ms/step - loss: 0.1696 - accuracy: 0.9388 - val_loss: 0.7271 - val_accuracy: 0.7699\n",
      "Epoch 79/100\n",
      "51/51 [==============================] - 22s 427ms/step - loss: 0.1649 - accuracy: 0.9381 - val_loss: 0.7170 - val_accuracy: 0.8261\n",
      "Epoch 80/100\n",
      "51/51 [==============================] - 22s 440ms/step - loss: 0.1526 - accuracy: 0.9437 - val_loss: 0.6619 - val_accuracy: 0.8118\n",
      "Epoch 81/100\n",
      "51/51 [==============================] - 22s 433ms/step - loss: 0.1400 - accuracy: 0.9459 - val_loss: 0.6758 - val_accuracy: 0.8183\n",
      "Epoch 82/100\n",
      "51/51 [==============================] - 23s 454ms/step - loss: 0.1637 - accuracy: 0.9378 - val_loss: 0.5598 - val_accuracy: 0.8431\n",
      "Epoch 83/100\n",
      "51/51 [==============================] - 23s 444ms/step - loss: 0.1337 - accuracy: 0.9543 - val_loss: 0.7156 - val_accuracy: 0.8026\n",
      "Epoch 84/100\n",
      "51/51 [==============================] - 24s 463ms/step - loss: 0.1499 - accuracy: 0.9475 - val_loss: 0.5924 - val_accuracy: 0.8484\n",
      "Epoch 85/100\n",
      "51/51 [==============================] - 23s 442ms/step - loss: 0.1524 - accuracy: 0.9465 - val_loss: 0.6964 - val_accuracy: 0.8353\n",
      "Epoch 86/100\n",
      "51/51 [==============================] - 22s 427ms/step - loss: 0.1883 - accuracy: 0.9375 - val_loss: 0.7204 - val_accuracy: 0.8131\n",
      "Epoch 87/100\n",
      "51/51 [==============================] - 22s 426ms/step - loss: 0.1686 - accuracy: 0.9335 - val_loss: 0.8922 - val_accuracy: 0.7660\n",
      "Epoch 88/100\n",
      "51/51 [==============================] - 22s 428ms/step - loss: 0.1498 - accuracy: 0.9453 - val_loss: 0.6795 - val_accuracy: 0.8353\n",
      "Epoch 89/100\n",
      "51/51 [==============================] - 22s 427ms/step - loss: 0.1526 - accuracy: 0.9453 - val_loss: 0.6735 - val_accuracy: 0.8379\n",
      "Epoch 90/100\n",
      "51/51 [==============================] - 22s 428ms/step - loss: 0.1577 - accuracy: 0.9434 - val_loss: 0.5598 - val_accuracy: 0.8392\n",
      "Epoch 91/100\n",
      "51/51 [==============================] - 22s 440ms/step - loss: 0.1624 - accuracy: 0.9391 - val_loss: 0.5657 - val_accuracy: 0.8327\n",
      "Epoch 92/100\n",
      "51/51 [==============================] - 22s 428ms/step - loss: 0.1200 - accuracy: 0.9559 - val_loss: 0.5677 - val_accuracy: 0.8340\n",
      "Epoch 93/100\n",
      "51/51 [==============================] - 22s 426ms/step - loss: 0.1419 - accuracy: 0.9444 - val_loss: 0.6192 - val_accuracy: 0.8418\n",
      "Epoch 94/100\n",
      "51/51 [==============================] - 22s 427ms/step - loss: 0.1984 - accuracy: 0.9338 - val_loss: 0.6813 - val_accuracy: 0.8261\n",
      "Epoch 95/100\n",
      "51/51 [==============================] - 22s 427ms/step - loss: 0.1166 - accuracy: 0.9562 - val_loss: 0.6456 - val_accuracy: 0.8562\n",
      "Epoch 96/100\n",
      "51/51 [==============================] - 22s 428ms/step - loss: 0.1367 - accuracy: 0.9534 - val_loss: 0.7367 - val_accuracy: 0.8327\n",
      "Epoch 97/100\n",
      "51/51 [==============================] - 22s 435ms/step - loss: 0.1388 - accuracy: 0.9465 - val_loss: 0.6586 - val_accuracy: 0.8510\n",
      "Epoch 98/100\n",
      "51/51 [==============================] - 23s 442ms/step - loss: 0.1364 - accuracy: 0.9537 - val_loss: 0.7074 - val_accuracy: 0.8405\n",
      "Epoch 99/100\n",
      "51/51 [==============================] - 22s 436ms/step - loss: 0.1169 - accuracy: 0.9593 - val_loss: 0.7421 - val_accuracy: 0.8327\n",
      "Epoch 100/100\n",
      "51/51 [==============================] - 22s 426ms/step - loss: 0.1202 - accuracy: 0.9583 - val_loss: 0.6402 - val_accuracy: 0.8431\n"
     ]
    }
   ],
   "source": [
    "historico = model.fit(imagen_entrenamiento, epochs = epocas, validation_data = imagen_validacion)"
   ]
  },
  {
   "cell_type": "code",
   "execution_count": 17,
   "metadata": {},
   "outputs": [],
   "source": [
    "\n",
    "directorio = \"./modelo/\"\n",
    "\n",
    "if not os.path.exists(directorio):\n",
    "    os.mkdir(directorio)\n",
    "\n",
    "model.save(\"./modelo/modelo_3caps_100epochs_DropoutProg_4class.h5\")\n",
    "model.save_weights(\"./modelo/pesos_3capas_100epochs_DropoutProg_4class.h5\")\n"
   ]
  },
  {
   "cell_type": "markdown",
   "metadata": {},
   "source": [
    "# Visualización\n"
   ]
  },
  {
   "cell_type": "code",
   "execution_count": 10,
   "metadata": {},
   "outputs": [],
   "source": [
    "acc = historico.history[\"accuracy\"]\n",
    "loss = historico.history[\"loss\"]\n",
    "val_acc = historico.history[\"val_accuracy\"]\n",
    "val_loss = historico.history[\"val_loss\"]\n",
    "epocas = range(len(acc))"
   ]
  },
  {
   "cell_type": "code",
   "execution_count": 11,
   "metadata": {},
   "outputs": [
    {
     "data": {
      "image/png": "[encoded data removed]",
      "text/plain": [
       "<Figure size 432x288 with 1 Axes>"
      ]
     },
     "metadata": {
      "needs_background": "light"
     },
     "output_type": "display_data"
    },
    {
     "data": {
      "image/png": "[encoded data removed]",
      "text/plain": [
       "<Figure size 432x288 with 1 Axes>"
      ]
     },
     "metadata": {
      "needs_background": "light"
     },
     "output_type": "display_data"
    }
   ],
   "source": [
    "plt.plot(epocas, acc, label = \"acc\")\n",
    "plt.plot(epocas, loss, label = \"loss\")\n",
    "plt.title(\"Diagrama Training ACCURACY vs LOSS\")\n",
    "plt.xlabel(\"epochs\")\n",
    "plt.legend()\n",
    "plt.figure()\n",
    "plt.plot(epocas, val_acc, label = \"val_acc\")\n",
    "plt.plot(epocas, val_loss, label = \"val_loss\")\n",
    "plt.title(\"Diagrama Validation ACCURACY vs LOSS\")\n",
    "plt.xlabel(\"epochs\")\n",
    "plt.legend()\n",
    "plt.show()"
   ]
  },
  {
   "cell_type": "markdown",
   "metadata": {},
   "source": [
    "# Predicciones"
   ]
  },
  {
   "cell_type": "code",
   "execution_count": 12,
   "metadata": {},
   "outputs": [],
   "source": [
    "import numpy as np\n",
    "from keras.preprocessing.image import load_img, img_to_array\n",
    "from keras.models import load_model"
   ]
  },
  {
   "cell_type": "code",
   "execution_count": null,
   "metadata": {},
   "outputs": [],
   "source": [
    "\"\"\"\n",
    "modelo = \"./modelo/modelo.h5\"\n",
    "pesos = \"./modelo/pesos.h5\"\n",
    "cnn = load_model(modelo)\n",
    "cnn.load_weights(pesos)\n",
    "\"\"\""
   ]
  },
  {
   "cell_type": "code",
   "execution_count": null,
   "metadata": {},
   "outputs": [],
   "source": [
    "#cnn.summary()"
   ]
  },
  {
   "cell_type": "code",
   "execution_count": 13,
   "metadata": {},
   "outputs": [],
   "source": [
    "def predict(file):\n",
    "    x = load_img(file, target_size = (altura, longitud))\n",
    "    x = img_to_array(x)\n",
    "    x = np.expand_dims(x, axis=0)\n",
    "    predict = model.predict(x)\n",
    "    resultado = predict[0]\n",
    "    #print(resultado)\n",
    "    respuesta = np.argmax(resultado)\n",
    "    posibilidades = {0:\"Carpintero\", 1: \"Charran\", 2: \"Colibri\", 3:\"Curruca\"}\n",
    "    for k in posibilidades.keys():\n",
    "        if k == respuesta:\n",
    "            print(posibilidades[k])\n",
    "    #return posibilidades[k]"
   ]
  },
  {
   "cell_type": "code",
   "execution_count": 14,
   "metadata": {},
   "outputs": [
    {
     "name": "stdout",
     "output_type": "stream",
     "text": [
      "Curruca\n",
      "Curruca\n",
      "Colibri\n",
      "Carpintero\n",
      "Colibri\n",
      "Carpintero\n",
      "Charran\n",
      "Charran\n"
     ]
    }
   ],
   "source": [
    "files = [*glob.glob(\"img_testeo/*.jpg\")]\n",
    "for i in files:\n",
    "    predict(i)"
   ]
  },
  {
   "cell_type": "code",
   "execution_count": 15,
   "metadata": {},
   "outputs": [
    {
     "name": "stdout",
     "output_type": "stream",
     "text": [
      "['img_testeo/curruca2.jpg', 'img_testeo/curruca1.jpg', 'img_testeo/colibri1.jpg', 'img_testeo/carpintero2.jpg', 'img_testeo/colibri2.jpg', 'img_testeo/carpintero1.jpg', 'img_testeo/charran2.jpg', 'img_testeo/charran1.jpg']\n"
     ]
    }
   ],
   "source": [
    "print(files)"
   ]
  },
  {
   "cell_type": "code",
   "execution_count": null,
   "metadata": {},
   "outputs": [],
   "source": []
  }
 ],
 "metadata": {
  "kernelspec": {
   "display_name": "Python 3",
   "language": "python",
   "name": "python3"
  },
  "language_info": {
   "codemirror_mode": {
    "name": "ipython",
    "version": 3
   },
   "file_extension": ".py",
   "mimetype": "text/x-python",
   "name": "python",
   "nbconvert_exporter": "python",
   "pygments_lexer": "ipython3",
   "version": "3.8.5"
  }
 },
 "nbformat": 4,
 "nbformat_minor": 4
}
